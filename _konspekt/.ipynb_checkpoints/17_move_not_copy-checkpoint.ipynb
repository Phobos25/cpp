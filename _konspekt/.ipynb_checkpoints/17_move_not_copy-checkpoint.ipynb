{
 "cells": [
  {
   "cell_type": "markdown",
   "id": "da66521a",
   "metadata": {},
   "source": [
    "### Move-итераторы"
   ]
  },
  {
   "cell_type": "markdown",
   "id": "e6534844",
   "metadata": {},
   "source": [
    "если мы хотим вместо копирования использовать перемещение move, то можешь воспользоваться командой move. Например:\n",
    "```cpp\n",
    "sentence.push_back(move(*it));\n",
    "```\n",
    "если нам известно начало и конец вектора, который мы хотим переместить, то мы можем проитерироваться по нему и перместить элементы один за другим. Но это не очень логично. Проще воспользоваться командой **make_move_iterator** библиотеки iterators\n",
    "\n",
    "```cpp\n",
    "#include <iterators>\n",
    "...\n",
    "auto tokens_begin = token.begin();    \n",
    "auto tokens_end = tokens.end();\n",
    " sentences.push_back(vector<Token>(\n",
    "        make_move_iterator(tokens_begin),\n",
    "        make_move_iterator(tokens_end)\n",
    "    ));\n",
    "```\n"
   ]
  },
  {
   "cell_type": "markdown",
   "id": "c72bf609",
   "metadata": {},
   "source": [
    "как мы знаем, у нас есть функция **copy**, которая копирует содержимое вектора в определенное место:\n",
    "```cpp\n",
    "copy(begin(sentence), end(sentence), range_begin);\n",
    "```\n",
    "тут range_begin это начало некоего вектора, в который мы хоитм скопировать содержимое вектора sentence\n",
    "\n",
    "А что если мы не хотим копировать, а просто хотим переместить?\n",
    "в этом случае мы можем воспользоваться функцией **move**\n",
    "\n",
    "```cpp\n",
    "move(begin(sentence), end(sentence), range_begin);\n",
    "```"
   ]
  },
  {
   "cell_type": "markdown",
   "id": "b7215739",
   "metadata": {},
   "source": [
    "### Некопируемые типы"
   ]
  },
  {
   "cell_type": "markdown",
   "id": "5dcc600d",
   "metadata": {},
   "source": [
    "Есть определнные типы данных, которые нельзя скопировать, а можно только переместить. Одним из примеров таких данных являются потоки ввода и вывода. Или например, если мы получили данные из файла, базы данных и т.п.\n",
    "\n",
    "в этих случаях и используется **move-семантика**"
   ]
  },
  {
   "cell_type": "markdown",
   "id": "f180f8ba",
   "metadata": {},
   "source": [
    "```cpp\n",
    "#include <fstream>\n",
    "#include <string>\n",
    "#include <vector>\n",
    "\n",
    "using namespace std;\n",
    "\n",
    "int main () {\n",
    "    vector<ofstream> streams;\n",
    "    streams.reserve(5);\n",
    "    for (int i = 0; i< 5; ++i){\n",
    "        ofstream stream(to_string(i) + \".txt\");\n",
    "        stream << \"File #\" << i << \"\\n\";\n",
    "        streams.push_back(move(stream));\n",
    "    }\n",
    "    for (auto& stream: streams){\n",
    "        stream << \"Vector is ready!\" << endl;\n",
    "    }\n",
    "    return 0;\n",
    "}\n",
    "```"
   ]
  },
  {
   "cell_type": "markdown",
   "id": "3ef951ac",
   "metadata": {},
   "source": [
    "этот код создает некопируемые объекты, которы мы можем переместить в вектор и даже редактировтаь их.\n",
    "\n",
    "если поменять **streams.push_back(move(stream))** на **streams.push_back(stream)**, т.е. убрать move. То у нас компилятор будет выдавать ошибку:\n",
    "\n",
    "**\"use of deleted function\"**\n",
    "\n",
    "или \n",
    "\n",
    "**basic_ofstream(const basic_ofstream&) = delete;**\n",
    "\n",
    "Что в принципе одно и то же. \n",
    "\n",
    "Мы не можем скопировать поток вывода. "
   ]
  },
  {
   "cell_type": "markdown",
   "id": "f35aa9b4",
   "metadata": {},
   "source": [
    "**В некоторых случаях компилятор опускает перемещение и копирование:**\n",
    "\n",
    "- Возврат из функции временного объекта (copy elision)\n",
    "\n",
    "- Инициализация временным объектом (copy elision)\n",
    "\n",
    "- Возврат из функции локальной переменной (NRVO - named return value optimization)"
   ]
  },
  {
   "cell_type": "code",
   "execution_count": null,
   "id": "9ccb3854",
   "metadata": {},
   "outputs": [],
   "source": []
  }
 ],
 "metadata": {
  "kernelspec": {
   "display_name": "Python 3",
   "language": "python",
   "name": "python3"
  },
  "language_info": {
   "codemirror_mode": {
    "name": "ipython",
    "version": 3
   },
   "file_extension": ".py",
   "mimetype": "text/x-python",
   "name": "python",
   "nbconvert_exporter": "python",
   "pygments_lexer": "ipython3",
   "version": "3.7.6"
  }
 },
 "nbformat": 4,
 "nbformat_minor": 5
}
