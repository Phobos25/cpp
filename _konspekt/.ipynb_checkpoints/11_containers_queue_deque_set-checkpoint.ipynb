{
 "cells": [
  {
   "cell_type": "markdown",
   "id": "c9e863fd",
   "metadata": {},
   "source": [
    "### Дополнительные контейнеры очереди"
   ]
  },
  {
   "cell_type": "markdown",
   "id": "8c03d49e",
   "metadata": {},
   "source": [
    "как мы уже знаем вектор умеет записывать в конец при помощи метода push_back.\n",
    "\n",
    "Если же мы хотим удалить 1 элемент сначала мы можем использовать метод erase:\n",
    "```\n",
    "v.push_back(x);\n",
    "v.erase(begin(v));\n",
    "```\n",
    "\n",
    "но такой способо является не эффективным, т.к. вектору после удаления первого элемента придется переместить все элементы налево."
   ]
  },
  {
   "cell_type": "markdown",
   "id": "8b3277da",
   "metadata": {},
   "source": [
    "существует такой контейнер deque:\n",
    "```\n",
    "#include <deque>\n",
    "deque<int> d;\n",
    "d.push_back(x); //добалвение элемента в конец вектора\n",
    "d.pop_back(); // удаление элемента вектора с конца\n",
    "d.push_front(x); //добавление в начало\n",
    "d.pop_front(); //удаление из начала\n",
    "```\n",
    "\n"
   ]
  },
  {
   "cell_type": "markdown",
   "id": "bf28ad54",
   "metadata": {},
   "source": [
    "* Дек умеет больше, поэтому является менее эффективным\n",
    "\n",
    "* При возможности нужно использовать вектор"
   ]
  },
  {
   "cell_type": "markdown",
   "id": "b191936a",
   "metadata": {},
   "source": [
    "Если нужна только очередь можно использовать контейнер queue\n",
    "```\n",
    "#include <queue>\n",
    "\n",
    "q.push(), q.pop()\n",
    "q.front(), q.back()\n",
    "q.size(), q.empty()\n",
    "```\n",
    "queue основан на деке"
   ]
  },
  {
   "cell_type": "markdown",
   "id": "f5f5f490",
   "metadata": {},
   "source": [
    "есть еще контейнер стек, который позволяет лишь добавлять в конец и удалять.\n",
    "\n",
    "```\n",
    "#include <stack>\n",
    "st.push(x), st.pop()\n",
    "st.pop()\n",
    "st.size(), st.empty()\n",
    "```"
   ]
  },
  {
   "cell_type": "code",
   "execution_count": null,
   "id": "c0c4486b",
   "metadata": {},
   "outputs": [],
   "source": []
  }
 ],
 "metadata": {
  "kernelspec": {
   "display_name": "Python 3",
   "language": "python",
   "name": "python3"
  },
  "language_info": {
   "codemirror_mode": {
    "name": "ipython",
    "version": 3
   },
   "file_extension": ".py",
   "mimetype": "text/x-python",
   "name": "python",
   "nbconvert_exporter": "python",
   "pygments_lexer": "ipython3",
   "version": "3.7.6"
  }
 },
 "nbformat": 4,
 "nbformat_minor": 5
}
