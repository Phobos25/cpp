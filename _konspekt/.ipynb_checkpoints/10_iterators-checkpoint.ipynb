{
 "cells": [
  {
   "cell_type": "markdown",
   "metadata": {},
   "source": [
    "## Итераторы"
   ]
  },
  {
   "cell_type": "markdown",
   "metadata": {},
   "source": [
    "Рассмотрим такой случай, у нас есть вектор слов: vector<string> langs. \n",
    "```\n",
    "vector<string> langs = {\"Python\", \"C++\", \"Java\", \"C\", \"C#\"};\n",
    "```\n",
    "    \n",
    "Внутри которого мы хотим посмотреть, есть ли элемент, которые начинается на 'C'. \n",
    "\n",
    "Для этого воспользуемся функцией find_if из стандартной библиотеки <algorithn>"
   ]
  },
  {
   "cell_type": "markdown",
   "metadata": {},
   "source": [
    "```\n",
    "vector<string> langs = {\"Python\", \"C++\", \"Java\", \"C\", \"C#\"}; \n",
    "\n",
    "auto result = find_if{\n",
    "    begin(langs), end(langs).\n",
    "    [](const &string lang){\n",
    "        return lang[0] == 'C';\n",
    "    });\n",
    "}\n",
    "```\n",
    "\n",
    "Возвращаемая переменная result, является ссылкой на тот объект, который был найден в ходе работе find_if. Поэтому мы можем менять возвращаемый объект: \n",
    "```\n",
    "*result = \"D++\";\n",
    "```"
   ]
  },
  {
   "cell_type": "markdown",
   "metadata": {},
   "source": [
    "Тогда вместо C++ у нас будет D++."
   ]
  },
  {
   "cell_type": "markdown",
   "metadata": {},
   "source": [
    "В случае если мы ничего не нашли, и хотим знать, что ничего не нашли. Надо использовать следующее:\n",
    "```\n",
    "if (result == end(langs){\n",
    "    cout << \"Not found\" << endl;\n",
    "}\n",
    "```\n",
    "Мы сравниваем наш result с концом вектора. Если он ему равен, значит наш алгоритм **find_if** ничего не нашел"
   ]
  },
  {
   "cell_type": "markdown",
   "metadata": {},
   "source": [
    "Как мы можем видеть, у result такой же тип, как и у end(langs), и следовательно, и у begin(langs). \n",
    "Тип, у begin и end зависит от контейнера, который в нем используется, и они называются **итераторами**"
   ]
  },
  {
   "cell_type": "markdown",
   "metadata": {},
   "source": [
    "```\n",
    "template <typename It>\n",
    "void PrintRange(\n",
    "    It range_begin,\n",
    "    It range_end){\n",
    "  for (auto it = range_begin;\n",
    "       it != range_end; ++it){\n",
    "     cout << *it << \" \";\n",
    "      }\n",
    "}\n",
    "```"
   ]
  },
  {
   "cell_type": "markdown",
   "metadata": {},
   "source": [
    "### Итераторы String"
   ]
  },
  {
   "cell_type": "markdown",
   "metadata": {},
   "source": [
    "Итераторы бывают не только у контейнеров, они бывают и у переменных string\n",
    "\n",
    "```\n",
    "string text = langs.name[1];\n",
    "auto it = begin(text);\n",
    "cout << *it << endl;  // 'C'\n",
    "```\n",
    "будет выводить 'С'\n",
    "\n",
    "Итераторы, могут итерироваться:\n",
    "```\n",
    "++it;\n",
    "cout << *it << endl; // '+'\n",
    "```\n",
    "будет выводить '+'\n",
    "\n",
    "следует иметь в виду, что итератор у string имеет тип unsigned int. Поэтому мы не можем использовать\n",
    "их прямо. К примеру:\n",
    "```\n",
    "auto border = langs.name[1].find(\"+\");\n",
    "PrintRange(begin(langs.name[1]), border);\n",
    "```\n",
    "работать не будет, т.к. у итератора begin(langs.name[1]) и border типы переменных будут разные"
   ]
  },
  {
   "cell_type": "markdown",
   "metadata": {},
   "source": [
    "### Использование итераторов в методах контейнеров"
   ]
  },
  {
   "cell_type": "markdown",
   "metadata": {},
   "source": [
    "Как мы знаем из вектора очень сложно удалить какой-то элемент. Мы не можем удалить какой-то элемент по ключу, потому что его у нас нет.\n",
    "\n",
    "Используя итераторы мы можем удалить любой элемент.\n",
    "```\n",
    "vector<string> langs = {\"Python\", \"C++\", \"Java\", \"C\", \"C#\"}; \n",
    "\n",
    "auto it = find(begin(langs), end(langs), \"C++\");\n",
    "langs.erase(it);\n",
    "```\n",
    "метод erase() удалит C++ из нашего вектора стрингов.\n",
    "\n",
    "Мы можем даже удалить целый диапазон:\n",
    "```\n",
    "langs.erase(it, end(langs));\n",
    "```\n",
    "удалит все элементы начиная с C++. У нас в векторе, тогда, останется только Python"
   ]
  },
  {
   "cell_type": "markdown",
   "metadata": {},
   "source": [
    "Еще один метод:\n",
    "```\n",
    "langs.insert(begin(langs), \"C++\");\n",
    "```\n",
    "insert() --- он вставляет C++ вначало, перед Python.\n",
    "\n",
    "Метод v.insert(it, value) вставляет value *перед* итератором it. Т.е. если мы возьмем it = end(v), длемент будет вставлен в конец вектора, это будет аналог push_back. или мы можем взять любой произвольный итератор it и value будет вставлен перед ним. \n",
    "\n",
    "**Также, можно вставить и диапазон (т.е. вектор)**\n",
    "\n",
    "```\n",
    "v.insert(it, range_begin, range_end) // вставляет [range_begin, range_end) в позицию it\n",
    "v.insert(it, count, value) // count раз вставляет элемент value в позицию it\n",
    "v.insert(it, {1,2,3}) // вставляет 1,2,3 в позицию it\n",
    "```"
   ]
  },
  {
   "cell_type": "markdown",
   "metadata": {},
   "source": [
    "### Обратные итераторы"
   ]
  },
  {
   "cell_type": "markdown",
   "metadata": {},
   "source": [
    "Чтобы вывести итераторы в обратном порядке можно использовать следующие команды:\n",
    "```\n",
    "rbegin(v), rend(v)\n",
    "```\n",
    "т.е. перед begin и end ставим r.в этом случае вектор будет выведен задом наперед. begin становится end'ом, end становится begin'ом. "
   ]
  },
  {
   "cell_type": "markdown",
   "metadata": {},
   "source": [
    "### Алгоритмы возвращающие итераторы"
   ]
  },
  {
   "cell_type": "markdown",
   "metadata": {},
   "source": [
    "```\n",
    "vector<string> c_langs (langs.size());\n",
    "auto it = copy_if(begin(langs), end(langs), begin(c_langs),\n",
    "[] (const string& lang){\n",
    "    return lang[0] == 'C';\n",
    "});\n",
    "```\n",
    "алгоритм copy_if возвращает итератор на последнем записанном элементе нового вектора, и записывает \n",
    "все элементы, которые начинаются на 'C'. В нашем случае размер вектора = 6, но будет заполнен только 3-мя элементами. \n",
    "Наш итератор it будет указывать на третий элемент.\n",
    "\n",
    "Поэтому, если мы захотим избавиться от пустых элементов в векторе мы можем воспользоваться методом erase."
   ]
  },
  {
   "cell_type": "markdown",
   "metadata": {},
   "source": [
    "мы можем не задавать размер вектора заранее, а воспользоваться функцией back_inserter(langs), который работает как метод push_back для вектора вектора\n",
    "```\n",
    "vector<string> c_langs;\n",
    "auto it = copy_if(begin(langs), end(langs), \n",
    "           back_inserter(c_langs),\n",
    "[] (const string& lang){\n",
    "    return lang[0] == 'C';\n",
    "});\n",
    "```\n",
    "Удалять при этом ничего не надо. "
   ]
  },
  {
   "cell_type": "markdown",
   "metadata": {},
   "source": [
    "Также, есть и другая функция inserter, который можно использовать для работы со множествами set\n",
    "```\n",
    "set<int> a = {1, 3, 8};\n",
    "set<int> b = {3, 7, 8};\n",
    "set<int> res;\n",
    "set_intersection(begin(a), end(a), begin(b), end(b),\n",
    "        inserter(res, end(res)));\n",
    "```"
   ]
  },
  {
   "cell_type": "markdown",
   "metadata": {},
   "source": [
    "### Отличия итераторов векторов и множеств"
   ]
  },
  {
   "cell_type": "markdown",
   "metadata": {},
   "source": [
    "Итераторы векторов можно слагать с друг другом или вычитать с друг друга. Если мы возьмем итераторы begin(langs) - end(langs) и выведем это число, то получится размер нашего вектора (в данном случае 5).\n",
    "\n",
    "Для итераторов множества даже такие элементарные действия недоступны. Их нельязя ни вычитать ни прибвлять с друг другом.\n",
    "\n",
    "Если у нас есть итератор множества и мы хотим посмотреть, какая величина лежит дальше нее мы можем использовать функцию next:\n",
    "```\n",
    "set<int> s = {1, 6, 8, 9};\n",
    "auto it = s.find(6);\n",
    "PrintRange(next(it), end(s));\n",
    "```"
   ]
  },
  {
   "cell_type": "markdown",
   "metadata": {},
   "source": [
    "### Категории итераторов"
   ]
  },
  {
   "cell_type": "markdown",
   "metadata": {},
   "source": [
    "**Input**: итераторы любых контейнеров\n",
    "**Forward, Bidir**: итераторы любых контейнеров (кроме set и map, если нужно менять содержимое)\n",
    "**Random**: итераторы векторов и строк\n",
    "**Output**: итераторы векторов и строк, inserter, back_inserter"
   ]
  },
  {
   "cell_type": "code",
   "execution_count": null,
   "metadata": {},
   "outputs": [],
   "source": []
  }
 ],
 "metadata": {
  "kernelspec": {
   "display_name": "Python 3",
   "language": "python",
   "name": "python3"
  },
  "language_info": {
   "codemirror_mode": {
    "name": "ipython",
    "version": 3
   },
   "file_extension": ".py",
   "mimetype": "text/x-python",
   "name": "python",
   "nbconvert_exporter": "python",
   "pygments_lexer": "ipython3",
   "version": "3.7.6"
  }
 },
 "nbformat": 4,
 "nbformat_minor": 4
}
