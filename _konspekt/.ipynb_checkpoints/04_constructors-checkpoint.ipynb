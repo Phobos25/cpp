{
 "cells": [
  {
   "cell_type": "markdown",
   "metadata": {},
   "source": [
    "## Конструкторы классов\n",
    "\n",
    "Допустим у нас есть класс Route, в котором моэно хранить маршрут между двумя городами. \n",
    "\n",
    "```\n",
    "class Route {\n",
    "  public:\n",
    "    Route (const string& new_source,\n",
    "           const string& new_destination){\n",
    "      source = new_source;\n",
    "      destination = new_destination;\n",
    "      UpdateLength(); //рассчитывает расстояние между городами\n",
    "    }\n",
    "    Route (){// конструктор по умолчанию\n",
    "      source = \"Moscow\"; \n",
    "      destination = \"Vologda\";\n",
    "      UpdateLength();\n",
    "      } \n",
    "    }\n",
    "  private:\n",
    "    string source;\n",
    "    string destination;\n",
    "  //остальные приватные методы  \n",
    "    \n",
    "}\n",
    "```"
   ]
  },
  {
   "cell_type": "markdown",
   "metadata": {},
   "source": [
    "```\n",
    "void PrintRoute(const Route& route){\n",
    "// выводит маршрут\n",
    "```\n",
    "\n",
    "Такую функцию можно выводить следующим образом:\n",
    "```\n",
    "PrintRoute(Route());\n",
    "```\n",
    "или\n",
    "```\n",
    "PrintRoute({});\n",
    "```\n",
    "и в том и в другом случае будет выведен маршрут по умолчанию\n",
    "\n",
    "\n",
    "Для вывода конкретного маршрута вы можете использовать следующий код\n",
    "```\n",
    "PrintRoute(Route(\"Zvenigorod\", \"Kirov\");\n",
    "```\n",
    "или\n",
    "```\n",
    "PrintRoute({\"Zvenigorod\", \"Kirov\"});\n",
    "```\n"
   ]
  },
  {
   "cell_type": "markdown",
   "metadata": {},
   "source": [
    "### Пример использование конструкторов"
   ]
  },
  {
   "cell_type": "markdown",
   "metadata": {},
   "source": [
    "```\n",
    "vector <Route> routes;\n",
    "routes.push_back({\"Zvenigorod\", \"Kirov\"});\n",
    "```"
   ]
  },
  {
   "cell_type": "markdown",
   "metadata": {},
   "source": [
    "### Значения по умолчанию для структур\n",
    "\n",
    "```\n",
    "struct Lecture {\n",
    "  string title = \"C++\";\n",
    "  int duration = 0;\n",
    "}\n",
    "```\n",
    "\n",
    "```\n",
    "Lecture lecture = {\"OOP\", 5400};\n",
    "```\n",
    "все еще работает\n",
    "\n",
    "\n",
    "```\n",
    "Lecture lecture2 = {\"OOP\"};\n",
    "```\n",
    "тоже работает, и длительность (duration) будет равно 0, но при этом название будет C++"
   ]
  },
  {
   "cell_type": "code",
   "execution_count": null,
   "metadata": {},
   "outputs": [],
   "source": []
  }
 ],
 "metadata": {
  "kernelspec": {
   "display_name": "Python 3",
   "language": "python",
   "name": "python3"
  },
  "language_info": {
   "codemirror_mode": {
    "name": "ipython",
    "version": 3
   },
   "file_extension": ".py",
   "mimetype": "text/x-python",
   "name": "python",
   "nbconvert_exporter": "python",
   "pygments_lexer": "ipython3",
   "version": "3.7.6"
  }
 },
 "nbformat": 4,
 "nbformat_minor": 4
}
