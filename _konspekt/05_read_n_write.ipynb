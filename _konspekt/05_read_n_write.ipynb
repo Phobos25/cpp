{
 "cells": [
  {
   "cell_type": "markdown",
   "metadata": {},
   "source": [
    "## Чтение и вывод в файл"
   ]
  },
  {
   "cell_type": "markdown",
   "metadata": {},
   "source": [
    "### Чтение с файла"
   ]
  },
  {
   "cell_type": "markdown",
   "metadata": {},
   "source": [
    "Для чтения файла используется библиотека <fstream> --- от file stream, который объявляется следующим образом:\n",
    "    \n",
    "```\n",
    "#include <fstream>\n",
    "```\n",
    "\n",
    "Можно считать с файла при помощи команды getline() --- считывает всю строку, либо стандартным методом >>\n",
    "```\n",
    "ifstream input(\"filename.txt\");\n",
    "string text;\n",
    "getline(input, text);\n",
    "```\n",
    "ifstream --- это от input file stream "
   ]
  },
  {
   "cell_type": "markdown",
   "metadata": {},
   "source": [
    "Надо иметь в виду, что getline не возвращает ошибку, если мы достигли конца файла, поэтому чтобы прочесть весь файл. можно использовать цикл while таким образом\n",
    "```\n",
    "while (getline(input,text)){\n",
    "  cout << text << endl;\n",
    "}\n",
    "```\n",
    "\n",
    "Также, для того, чтобы узнать действительно ли прочитался файл, можно использовать следующий код\n",
    "```\n",
    "if (input){\n",
    "  getline(input,text);\n",
    "} else {\n",
    "  cout << \"error!\" << endl;\n",
    "    }\n",
    "```\n",
    "Если мы ввели название файла неправильно, или файла несуществует, то программа выдаст ошибку"
   ]
  },
  {
   "cell_type": "markdown",
   "metadata": {},
   "source": [
    "```\n",
    "#date.txt\n",
    "2017-01-25\n",
    "```"
   ]
  },
  {
   "cell_type": "markdown",
   "metadata": {},
   "source": [
    "```\n",
    "fstream input(\"date.txt\");\n",
    "int year = 0;\n",
    "int month = 0;\n",
    "int day = 0;\n",
    "\n",
    "if (input){\n",
    "  input >> year;\n",
    "  input.ignore(1);\n",
    "  input >> month;\n",
    "  input.ignore(1);\n",
    "  input >> day;\n",
    "  input.ignore(1);\n",
    "}\n",
    "cout << year << ' ' << month << ' ' << day << endl;\n",
    "```\n",
    "\n",
    "еще можно использовать команду getline с дополнительным параметром\n",
    "```\n",
    "string year\n",
    "string month\n",
    "string day\n",
    "\n",
    "if (input){\n",
    "  getline(input, year, '-');\n",
    "  getline(input, month, '-');\n",
    "  getline(input, day, '-');\n",
    "}\n",
    "cout << year << ' ' << month << ' ' << day << endl;\n",
    "```\n",
    "\n",
    "И там  и там, вывод будет одинаковый"
   ]
  },
  {
   "cell_type": "markdown",
   "metadata": {},
   "source": [
    "### Запись в файл"
   ]
  },
  {
   "cell_type": "markdown",
   "metadata": {},
   "source": [
    "для записи в файл используется ofstream --- output file stream\n",
    "```\n",
    "ofstream output(\"output.txt\");\n",
    "output << \"Hello world\" << endl;\n",
    "```\n",
    "будет создан файл output.txt и в него записана строка \"Hello world\""
   ]
  },
  {
   "cell_type": "code",
   "execution_count": null,
   "metadata": {},
   "outputs": [],
   "source": []
  }
 ],
 "metadata": {
  "kernelspec": {
   "display_name": "Python 3",
   "language": "python",
   "name": "python3"
  },
  "language_info": {
   "codemirror_mode": {
    "name": "ipython",
    "version": 3
   },
   "file_extension": ".py",
   "mimetype": "text/x-python",
   "name": "python",
   "nbconvert_exporter": "python",
   "pygments_lexer": "ipython3",
   "version": "3.7.6"
  }
 },
 "nbformat": 4,
 "nbformat_minor": 4
}
