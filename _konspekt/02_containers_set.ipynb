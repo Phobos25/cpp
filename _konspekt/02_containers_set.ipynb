{
 "cells": [
  {
   "cell_type": "markdown",
   "metadata": {},
   "source": [
    "##  Set --- множества\n",
    "\n",
    "данный метод позволяет сохранить множество чисел, символов или слов во множестве\n",
    "\n",
    "set обладает свойством уникальности. Все элементы множества уникальны. Если добавить еще один такой же элемент, то программа его проигнорирует. \n",
    "\n",
    "```\n",
    "#include <set>\n",
    "set <string> famous_persons;\n",
    "```\n",
    "\n",
    "Элементы добавляются командой **insert**:\n",
    "```\n",
    "famous_persons.insert(\"Ritchie\");\n",
    "famous_persons.insert(\"Stroutstrup\");\n",
    "```\n",
    "Для удаления можно воспользоваться командой **erase**:\n",
    "\n",
    "```\n",
    "famous_persons.erase(\"Ritchie\");\n",
    "```"
   ]
  },
  {
   "cell_type": "markdown",
   "metadata": {},
   "source": [
    "Можно объявлять множества так:\n",
    "```\n",
    "set <string> months = {\"January\", \"February\", \"March\"};\n",
    "```\n",
    "\n",
    "Проверить наличие конкретного элемента во множестве можно командой **count**:\n",
    "```\n",
    "months.count(\"March\");\n",
    "```\n",
    "Т.к. все элементы во множестве уникальны, то count выведет либо 1 --- такой элемент есть, либо 0 --- такого элемента нет."
   ]
  },
  {
   "cell_type": "markdown",
   "metadata": {},
   "source": [
    "### Перевод вектора в множество\n",
    "\n",
    "Пусть у нас есть вектор *v* с элементами: a, b, a. Мы можем перевести его в множество s, тогда получим множество с двумя элементами:\n",
    "\n",
    "```\n",
    "vector <string> v = {\"a\", \"b\", \"a\"};\n",
    "set <string> s (begin(v), end(v));\n",
    "```"
   ]
  }
 ],
 "metadata": {
  "kernelspec": {
   "display_name": "Python 3",
   "language": "python",
   "name": "python3"
  },
  "language_info": {
   "codemirror_mode": {
    "name": "ipython",
    "version": 3
   },
   "file_extension": ".py",
   "mimetype": "text/x-python",
   "name": "python",
   "nbconvert_exporter": "python",
   "pygments_lexer": "ipython3",
   "version": "3.7.6"
  }
 },
 "nbformat": 4,
 "nbformat_minor": 4
}
