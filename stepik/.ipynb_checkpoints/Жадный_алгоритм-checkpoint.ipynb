{
 "cells": [
  {
   "cell_type": "markdown",
   "id": "64287591",
   "metadata": {},
   "source": [
    "### Жадный алгоритм"
   ]
  },
  {
   "cell_type": "markdown",
   "id": "178e9dff",
   "metadata": {},
   "source": [
    "#### Задача о размене"
   ]
  },
  {
   "cell_type": "markdown",
   "id": "794b41d5",
   "metadata": {},
   "source": [
    "Пусть нам надо оплатить покупку в 39 рублей. \n",
    "\n",
    "Будем использовать монеты известных номиналов: 10, 5, 2, 1. \n",
    "\n",
    "Будем использовать ту же логику, что и в жизни. Возьмем максимальное количество крупными монетами:\n",
    "\n",
    "10+10+10+5+2+2 = 39\n",
    "\n"
   ]
  },
  {
   "cell_type": "markdown",
   "id": "c6866f0c",
   "metadata": {},
   "source": [
    "```cpp\n",
    "int change(int n, vector<int> a, int s){    \n",
    "    int cnt = 0; // количество монет\n",
    "    // мы идем по номиналу от большего к меньшему\n",
    "    for (int i =0; i< n; ++i){\n",
    "        cnt += s / a[i];\n",
    "        s \\= a[i];\n",
    "    }\n",
    "    return cnt;\n",
    "}\n",
    "```"
   ]
  },
  {
   "cell_type": "markdown",
   "id": "920d22ba",
   "metadata": {},
   "source": [
    "Но, является ли жадный алгоритм оптимальным?\n",
    "\n",
    "Не всегда. Рассмотрим следующий пример:\n",
    "\n",
    "Пусть нам нужно набрать 25, монетками следующего номинала: 10, 8, 6, 1\n",
    "\n",
    "s = 25, a = [10, 8, 6, 1]\n",
    "\n"
   ]
  },
  {
   "cell_type": "markdown",
   "id": "f928bd64",
   "metadata": {},
   "source": [
    "**Жадный алгоритм:**\n",
    "\n",
    "10, 10, 1, 1, 1, 1, 1, 1, 1. т.е. 7 монет\n",
    "\n",
    "**Оптимальный вариант:**\n",
    "\n",
    "10, 8, 6, 1 т.е. 4 монет"
   ]
  },
  {
   "cell_type": "code",
   "execution_count": null,
   "id": "43ef85f8",
   "metadata": {},
   "outputs": [],
   "source": []
  }
 ],
 "metadata": {
  "kernelspec": {
   "display_name": "Python 3 (ipykernel)",
   "language": "python",
   "name": "python3"
  },
  "language_info": {
   "codemirror_mode": {
    "name": "ipython",
    "version": 3
   },
   "file_extension": ".py",
   "mimetype": "text/x-python",
   "name": "python",
   "nbconvert_exporter": "python",
   "pygments_lexer": "ipython3",
   "version": "3.7.11"
  }
 },
 "nbformat": 4,
 "nbformat_minor": 5
}
